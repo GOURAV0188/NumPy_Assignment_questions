{
  "nbformat": 4,
  "nbformat_minor": 0,
  "metadata": {
    "colab": {
      "provenance": []
    },
    "kernelspec": {
      "name": "python3",
      "display_name": "Python 3"
    },
    "language_info": {
      "name": "python"
    }
  },
  "cells": [
    {
      "cell_type": "code",
      "execution_count": 1,
      "metadata": {
        "id": "xptRv2pxbOzz"
      },
      "outputs": [],
      "source": [
        "# 1. Create a 3x3 NumPy array with random integers between 1 and 100. Then, interchange its rows and columns."
      ]
    },
    {
      "cell_type": "code",
      "source": [
        "# Answer =\n",
        "import numpy as np\n",
        "# Create 3x3 array\n",
        "arr = np.random.randint(1, 101, (3, 3))\n",
        "# Interchange rows and columns\n",
        "transposed_arr = arr.T\n",
        "print(\"Original Array:\\n\", arr)\n",
        "print(\"Transposed Array:\\n\", transposed_arr)\n"
      ],
      "metadata": {
        "colab": {
          "base_uri": "https://localhost:8080/"
        },
        "id": "FQMtDi0QdjWH",
        "outputId": "b4ff2650-caa9-4b42-9d74-a6764937d319"
      },
      "execution_count": 2,
      "outputs": [
        {
          "output_type": "stream",
          "name": "stdout",
          "text": [
            "Original Array:\n",
            " [[20  4 84]\n",
            " [19 56  1]\n",
            " [50 26 10]]\n",
            "Transposed Array:\n",
            " [[20 19 50]\n",
            " [ 4 56 26]\n",
            " [84  1 10]]\n"
          ]
        }
      ]
    },
    {
      "cell_type": "code",
      "source": [
        "# 2. Generate a 1D NumPy array with 10 elements. Reshape it into a 2x5 array, then into a 5x2 array."
      ],
      "metadata": {
        "id": "BNI0QVgCdnIo"
      },
      "execution_count": 3,
      "outputs": []
    },
    {
      "cell_type": "code",
      "source": [
        "# Answer =\n",
        "arr = np.arange(10)\n",
        "arr_2x5 = arr.reshape(2, 5)\n",
        "arr_5x2 = arr.reshape(5, 2)\n",
        "print(\"Original Array:\\n\", arr)\n",
        "print(\"2x5 Array:\\n\", arr_2x5)\n",
        "print(\"5x2 Array:\\n\", arr_5x2)\n"
      ],
      "metadata": {
        "colab": {
          "base_uri": "https://localhost:8080/"
        },
        "id": "x60TFrI-dqBZ",
        "outputId": "0a302093-944a-4c50-ea26-2a72f83d2793"
      },
      "execution_count": 4,
      "outputs": [
        {
          "output_type": "stream",
          "name": "stdout",
          "text": [
            "Original Array:\n",
            " [0 1 2 3 4 5 6 7 8 9]\n",
            "2x5 Array:\n",
            " [[0 1 2 3 4]\n",
            " [5 6 7 8 9]]\n",
            "5x2 Array:\n",
            " [[0 1]\n",
            " [2 3]\n",
            " [4 5]\n",
            " [6 7]\n",
            " [8 9]]\n"
          ]
        }
      ]
    },
    {
      "cell_type": "code",
      "source": [
        "# 3. Create a 4x4 NumPy array with random float values. Add a border of zeros around it, resulting in a 6x6 array."
      ],
      "metadata": {
        "colab": {
          "base_uri": "https://localhost:8080/",
          "height": 106
        },
        "id": "_4ezQ6QMdtn6",
        "outputId": "9b776d7c-c6ae-40f5-e916-00b6b4caa52f"
      },
      "execution_count": 5,
      "outputs": [
        {
          "output_type": "error",
          "ename": "SyntaxError",
          "evalue": "invalid decimal literal (<ipython-input-5-afc4079c8c54>, line 1)",
          "traceback": [
            "\u001b[0;36m  File \u001b[0;32m\"<ipython-input-5-afc4079c8c54>\"\u001b[0;36m, line \u001b[0;32m1\u001b[0m\n\u001b[0;31m    3. Create a 4x4 NumPy array with random float values. Add a border of zeros around it, resulting in a 6x6 array.\u001b[0m\n\u001b[0m                ^\u001b[0m\n\u001b[0;31mSyntaxError\u001b[0m\u001b[0;31m:\u001b[0m invalid decimal literal\n"
          ]
        }
      ]
    },
    {
      "cell_type": "code",
      "source": [
        "# Answer =\n",
        "arr = np.random.rand(4, 4)\n",
        "padded_arr = np.pad(arr, pad_width=1, mode='constant', constant_values=0)\n",
        "print(\"Original Array:\\n\", arr)\n",
        "print(\"Array with Border:\\n\", padded_arr)\n"
      ],
      "metadata": {
        "colab": {
          "base_uri": "https://localhost:8080/"
        },
        "id": "DdJor886dx7e",
        "outputId": "ed694b49-1ff3-4bad-efb4-838bf8db3f2a"
      },
      "execution_count": 6,
      "outputs": [
        {
          "output_type": "stream",
          "name": "stdout",
          "text": [
            "Original Array:\n",
            " [[0.92871318 0.69396754 0.00662638 0.56455271]\n",
            " [0.88769265 0.10486823 0.08423252 0.53186496]\n",
            " [0.97346032 0.3053902  0.89061504 0.68626805]\n",
            " [0.55406944 0.65413735 0.75915982 0.46232073]]\n",
            "Array with Border:\n",
            " [[0.         0.         0.         0.         0.         0.        ]\n",
            " [0.         0.92871318 0.69396754 0.00662638 0.56455271 0.        ]\n",
            " [0.         0.88769265 0.10486823 0.08423252 0.53186496 0.        ]\n",
            " [0.         0.97346032 0.3053902  0.89061504 0.68626805 0.        ]\n",
            " [0.         0.55406944 0.65413735 0.75915982 0.46232073 0.        ]\n",
            " [0.         0.         0.         0.         0.         0.        ]]\n"
          ]
        }
      ]
    },
    {
      "cell_type": "code",
      "source": [
        "# 4. Using NumPy, create an array of integers from 10 to 60 with a step of 5.\n",
        "\n",
        "\n"
      ],
      "metadata": {
        "id": "hTcA-O4od2S_"
      },
      "execution_count": 7,
      "outputs": []
    },
    {
      "cell_type": "code",
      "source": [
        "# Answer =\n",
        "arr = np.arange(10, 61, 5)\n",
        "print(\"Array:\", arr)\n"
      ],
      "metadata": {
        "colab": {
          "base_uri": "https://localhost:8080/"
        },
        "id": "i4jg0w2ud7B6",
        "outputId": "4908d48b-0ce3-4f31-f2cf-216292c50119"
      },
      "execution_count": 8,
      "outputs": [
        {
          "output_type": "stream",
          "name": "stdout",
          "text": [
            "Array: [10 15 20 25 30 35 40 45 50 55 60]\n"
          ]
        }
      ]
    },
    {
      "cell_type": "code",
      "source": [
        "# 5. Create a NumPy array of strings ['python', 'numpy', 'pandas']. Apply different case transformations\n",
        "# (uppercase, lowercase, title case, etc.) to each element."
      ],
      "metadata": {
        "id": "J09TvXpyeALq"
      },
      "execution_count": 9,
      "outputs": []
    },
    {
      "cell_type": "code",
      "source": [
        "# Answer =\n",
        "arr = np.array(['python', 'numpy', 'pandas'])\n",
        "upper = np.char.upper(arr)\n",
        "lower = np.char.lower(arr)\n",
        "title = np.char.title(arr)\n",
        "print(\"Uppercase:\", upper)\n",
        "print(\"Lowercase:\", lower)\n",
        "print(\"Title Case:\", title)\n"
      ],
      "metadata": {
        "colab": {
          "base_uri": "https://localhost:8080/"
        },
        "id": "wfiNLiryeD6F",
        "outputId": "7ec0a4d8-e218-47eb-d570-82b9f0335d67"
      },
      "execution_count": 10,
      "outputs": [
        {
          "output_type": "stream",
          "name": "stdout",
          "text": [
            "Uppercase: ['PYTHON' 'NUMPY' 'PANDAS']\n",
            "Lowercase: ['python' 'numpy' 'pandas']\n",
            "Title Case: ['Python' 'Numpy' 'Pandas']\n"
          ]
        }
      ]
    },
    {
      "cell_type": "code",
      "source": [
        "# 6. Generate a NumPy array of words. Insert a space between each character of every word in the array."
      ],
      "metadata": {
        "id": "jSM5k41veG4n"
      },
      "execution_count": 11,
      "outputs": []
    },
    {
      "cell_type": "code",
      "source": [
        "# Answer =\n",
        "arr = np.array(['python', 'numpy', 'pandas'])\n",
        "spaced = np.char.join(' ', arr)\n",
        "print(\"Spaced Words:\", spaced)\n"
      ],
      "metadata": {
        "colab": {
          "base_uri": "https://localhost:8080/"
        },
        "id": "Kda2RKtPeLnY",
        "outputId": "495da9cf-3cd8-4a82-bb26-bd73ed872465"
      },
      "execution_count": 12,
      "outputs": [
        {
          "output_type": "stream",
          "name": "stdout",
          "text": [
            "Spaced Words: ['p y t h o n' 'n u m p y' 'p a n d a s']\n"
          ]
        }
      ]
    },
    {
      "cell_type": "code",
      "source": [
        "# 7. Create two 2D NumPy arrays and perform element-wise addition, subtraction, multiplication, and division."
      ],
      "metadata": {
        "id": "kk1mTSE6eOhE"
      },
      "execution_count": 13,
      "outputs": []
    },
    {
      "cell_type": "code",
      "source": [
        "# Answer =\n",
        "arr1 = np.array([[1, 2], [3, 4]])\n",
        "arr2 = np.array([[5, 6], [7, 8]])\n",
        "addition = arr1 + arr2\n",
        "subtraction = arr1 - arr2\n",
        "multiplication = arr1 * arr2\n",
        "division = arr1 / arr2\n",
        "print(\"Addition:\\n\", addition)\n",
        "print(\"Subtraction:\\n\", subtraction)\n",
        "print(\"Multiplication:\\n\", multiplication)\n",
        "print(\"Division:\\n\", division)\n"
      ],
      "metadata": {
        "colab": {
          "base_uri": "https://localhost:8080/"
        },
        "id": "ihY9EbrEeTET",
        "outputId": "7f3ca594-5223-4eb3-a3c4-3f5ea4016b4e"
      },
      "execution_count": 14,
      "outputs": [
        {
          "output_type": "stream",
          "name": "stdout",
          "text": [
            "Addition:\n",
            " [[ 6  8]\n",
            " [10 12]]\n",
            "Subtraction:\n",
            " [[-4 -4]\n",
            " [-4 -4]]\n",
            "Multiplication:\n",
            " [[ 5 12]\n",
            " [21 32]]\n",
            "Division:\n",
            " [[0.2        0.33333333]\n",
            " [0.42857143 0.5       ]]\n"
          ]
        }
      ]
    },
    {
      "cell_type": "code",
      "source": [
        "# 8. Use NumPy to create a 5x5 identity matrix, then extract its diagonal elements."
      ],
      "metadata": {
        "id": "cg_yov5reWIQ"
      },
      "execution_count": 15,
      "outputs": []
    },
    {
      "cell_type": "code",
      "source": [
        "# Answer =\n",
        "identity = np.eye(5)\n",
        "diagonal = np.diag(identity)\n",
        "print(\"Identity Matrix:\\n\", identity)\n",
        "print(\"Diagonal Elements:\", diagonal)\n"
      ],
      "metadata": {
        "colab": {
          "base_uri": "https://localhost:8080/"
        },
        "id": "Le5fjbRxeanG",
        "outputId": "9967fbd4-7039-4854-9d74-edcd23300ee0"
      },
      "execution_count": 16,
      "outputs": [
        {
          "output_type": "stream",
          "name": "stdout",
          "text": [
            "Identity Matrix:\n",
            " [[1. 0. 0. 0. 0.]\n",
            " [0. 1. 0. 0. 0.]\n",
            " [0. 0. 1. 0. 0.]\n",
            " [0. 0. 0. 1. 0.]\n",
            " [0. 0. 0. 0. 1.]]\n",
            "Diagonal Elements: [1. 1. 1. 1. 1.]\n"
          ]
        }
      ]
    },
    {
      "cell_type": "code",
      "source": [
        "# 9. Generate a NumPy array of 100 random integers between 0 and 1000. Find and display all prime numbers in\n",
        "# this array\n"
      ],
      "metadata": {
        "id": "y1By1rsheeJq"
      },
      "execution_count": 17,
      "outputs": []
    },
    {
      "cell_type": "code",
      "source": [
        "# Answer =\n",
        "arr = np.random.randint(0, 1001, 100)\n",
        "# Function to check if a number is prime\n",
        "def is_prime(num):\n",
        "    if num < 2:\n",
        "        return False\n",
        "    for i in range(2, int(num**0.5) + 1):\n",
        "        if num % i == 0:\n",
        "            return False\n",
        "    return True\n",
        "\n",
        "primes = arr[np.vectorize(is_prime)(arr)]\n",
        "print(\"Original Array:\\n\", arr)\n",
        "print(\"Prime Numbers:\\n\", primes)\n"
      ],
      "metadata": {
        "colab": {
          "base_uri": "https://localhost:8080/"
        },
        "id": "FZkvhD1IehvF",
        "outputId": "c41226da-30db-4a23-f7a2-b9f769ad432d"
      },
      "execution_count": 18,
      "outputs": [
        {
          "output_type": "stream",
          "name": "stdout",
          "text": [
            "Original Array:\n",
            " [853 753 708 761 832 981 947 122 420 399 915 501 982  25 851 255 944 299\n",
            "  33 197  36 468  88 206 602 745 792 711 919 268 991 481 974 690  47 704\n",
            " 921 799 679 150 734 664 728 132 190 964 682 238 462 561 382 925 312  97\n",
            " 972 431 227 365 344 683   9 187 253 562 467 678 998 800 630 191 272 728\n",
            " 564 636 932 256 191  35 956  20 872 557 808 209 144 878 971 945 289 447\n",
            " 299  52 148 254 272 671 353 439  38 902]\n",
            "Prime Numbers:\n",
            " [853 761 947 197 919 991  47  97 431 227 683 467 191 191 557 971 353 439]\n"
          ]
        }
      ]
    },
    {
      "cell_type": "code",
      "source": [
        "# 10. Create a NumPy array representing daily temperatures for a month. Calculate and display the weekly\n",
        "# averages.\n"
      ],
      "metadata": {
        "id": "LoRJCwEBek7_"
      },
      "execution_count": 19,
      "outputs": []
    },
    {
      "cell_type": "code",
      "source": [
        "# Answer =\n",
        "temperatures = np.random.uniform(20, 35, 30)  # Random temperatures for 30 days\n",
        "weekly_averages = temperatures.reshape(4, 7).mean(axis=1)\n",
        "print(\"Daily Temperatures:\\n\", temperatures)\n",
        "print(\"Weekly Averages:\\n\", weekly_averages)\n"
      ],
      "metadata": {
        "id": "yg1rwscCeyDo"
      },
      "execution_count": null,
      "outputs": []
    }
  ]
}